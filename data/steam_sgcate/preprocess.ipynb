{
 "cells": [
  {
   "cell_type": "code",
   "execution_count": 1,
   "metadata": {},
   "outputs": [],
   "source": [
    "import json\n",
    "from tqdm import tqdm"
   ]
  },
  {
   "cell_type": "code",
   "execution_count": 2,
   "metadata": {},
   "outputs": [],
   "source": [
    "import json\n",
    "\n",
    "def load_steam_games(file_path):\n",
    "    \"\"\"\n",
    "    Load the steam_games.json file and return a list of game dictionaries.\n",
    "    \"\"\"\n",
    "    games = []\n",
    "    with open(file_path, 'r') as file:\n",
    "        for line in file:\n",
    "            # Remove any leading or trailing whitespace\n",
    "            line = line.strip()\n",
    "            # Replace the 'u' prefix with nothing\n",
    "            line = line.replace(\"u'\", \"'\")\n",
    "            # Replace the 'u\"' with '\"'\n",
    "            line = line.replace('u\"', '\"')\n",
    "            try:\n",
    "                game = eval(line)\n",
    "                games.append(game)\n",
    "            except Exception as e:\n",
    "                print(f\"Error parsing line: {line}. Error: {e}\")\n",
    "    return games\n",
    "\n",
    "# Example usage\n",
    "file_path = 'steam_games.json'\n",
    "games = load_steam_games(file_path)"
   ]
  },
  {
   "cell_type": "code",
   "execution_count": 3,
   "metadata": {},
   "outputs": [
    {
     "name": "stdout",
     "output_type": "stream",
     "text": [
      "32135\n",
      "{'publisher': 'Kotoshiro', 'genres': ['Action', 'Casual', 'Indie', 'Simulation', 'Strategy'], 'app_name': 'Lost Summoner Kitty', 'title': 'Lost Summoner Kitty', 'url': 'http://store.steampowered.com/app/761140/Lost_Summoner_Kitty/', 'release_date': '2018-01-04', 'tags': ['Strategy', 'Action', 'Indie', 'Casual', 'Simulation'], 'discount_price': 4.49, 'reviews_url': 'http://steamcommunity.com/app/761140/reviews/?browsefilter=mostrecent&p=1', 'specs': ['Single-player'], 'price': 4.99, 'early_access': False, 'id': '761140', 'developer': 'Kotoshiro'}\n"
     ]
    }
   ],
   "source": [
    "print(len(games))\n",
    "print(games[0])"
   ]
  },
  {
   "cell_type": "code",
   "execution_count": 4,
   "metadata": {},
   "outputs": [],
   "source": [
    "name_genres_dict = {}\n",
    "id_genres_dict = {}\n",
    "id_name_dict = {}\n",
    "genre_set = set()\n",
    "for game in games:\n",
    "    if 'genres' in game:\n",
    "        genre = game['genres'][0].replace('amp;','')\n",
    "    # elif 'tags' in game:\n",
    "    #     genre = game['tags'][0].replace('amp;','')\n",
    "    else:\n",
    "        continue\n",
    "    if 'app_name' in game:\n",
    "        name = game['app_name']\n",
    "    else:\n",
    "        continue\n",
    "    if 'id' in game:\n",
    "        id = game['id']\n",
    "    else: \n",
    "        continue\n",
    "    genre_set.add(genre)\n",
    "    name_genres_dict[name] = genre\n",
    "    id_genres_dict[id] = genre\n",
    "    id_name_dict[id] = name"
   ]
  },
  {
   "cell_type": "code",
   "execution_count": 5,
   "metadata": {},
   "outputs": [
    {
     "name": "stdout",
     "output_type": "stream",
     "text": [
      "22 28849 28826\n",
      "{'RPG', 'Design & Illustration', 'Indie', 'Web Publishing', 'Accounting', 'Software Training', 'Education', 'Action', 'Sports', 'Strategy', 'Casual', 'Audio Production', 'Photo Editing', 'Video Production', 'Massively Multiplayer', 'Free to Play', 'Early Access', 'Animation & Modeling', 'Racing', 'Utilities', 'Simulation', 'Adventure'}\n"
     ]
    }
   ],
   "source": [
    "print(len(genre_set), len(id_name_dict), len(name_genres_dict))\n",
    "print(genre_set)"
   ]
  },
  {
   "cell_type": "code",
   "execution_count": 6,
   "metadata": {},
   "outputs": [],
   "source": [
    "import pandas as pd\n",
    "\n",
    "def load_steam_interactions(file_path):\n",
    "    interactions = []\n",
    "    with open(file_path, 'r') as file:\n",
    "        for line in tqdm(file):\n",
    "            line = line.strip()\n",
    "            line = line.replace(\"u'\", \"'\")\n",
    "            line = line.replace('u\"', '\"')\n",
    "            try:\n",
    "                interaction = eval(line)\n",
    "                if ('username' in interaction) & ('product_id' in interaction) & ('hours' in interaction) & ('date' in interaction):\n",
    "                    interactions.append({'user_id': interaction['username'], 'item_id': interaction['product_id'], 'rating': interaction['hours'], 'timestamp': interaction['date']})\n",
    "            except Exception as e:\n",
    "                print(f\"Error parsing line: {line}. Error: {e}\")\n",
    "    return interactions"
   ]
  },
  {
   "cell_type": "code",
   "execution_count": 7,
   "metadata": {},
   "outputs": [
    {
     "name": "stderr",
     "output_type": "stream",
     "text": [
      "7793069it [04:16, 30370.20it/s]\n"
     ]
    }
   ],
   "source": [
    "interactions = load_steam_interactions(\"./steam_new.json\")"
   ]
  },
  {
   "cell_type": "code",
   "execution_count": 8,
   "metadata": {},
   "outputs": [
    {
     "name": "stderr",
     "output_type": "stream",
     "text": [
      "  0%|          | 0/7766532 [00:00<?, ?it/s]"
     ]
    },
    {
     "name": "stderr",
     "output_type": "stream",
     "text": [
      "100%|██████████| 7766532/7766532 [00:40<00:00, 190280.09it/s]\n"
     ]
    }
   ],
   "source": [
    "import datetime\n",
    "\n",
    "user_id = []\n",
    "item_id = []\n",
    "rating = []\n",
    "timestamp = []\n",
    "for interaction in tqdm(interactions):\n",
    "    if interaction['rating'] < 3: continue\n",
    "    else:\n",
    "        user_id.append(interaction['user_id'])\n",
    "        item_id.append(interaction['item_id'])\n",
    "        rating.append(1)\n",
    "        date_obj = datetime.datetime.strptime(interaction['timestamp'], \"%Y-%m-%d\")\n",
    "        stamp = int(date_obj.timestamp())\n",
    "        timestamp.append(stamp)\n",
    "\n",
    "        "
   ]
  },
  {
   "cell_type": "code",
   "execution_count": 9,
   "metadata": {},
   "outputs": [
    {
     "data": {
      "text/html": [
       "<div>\n",
       "<style scoped>\n",
       "    .dataframe tbody tr th:only-of-type {\n",
       "        vertical-align: middle;\n",
       "    }\n",
       "\n",
       "    .dataframe tbody tr th {\n",
       "        vertical-align: top;\n",
       "    }\n",
       "\n",
       "    .dataframe thead th {\n",
       "        text-align: right;\n",
       "    }\n",
       "</style>\n",
       "<table border=\"1\" class=\"dataframe\">\n",
       "  <thead>\n",
       "    <tr style=\"text-align: right;\">\n",
       "      <th></th>\n",
       "      <th>user_id</th>\n",
       "      <th>item_id</th>\n",
       "      <th>rating</th>\n",
       "      <th>timestamp</th>\n",
       "    </tr>\n",
       "  </thead>\n",
       "  <tbody>\n",
       "    <tr>\n",
       "      <th>0</th>\n",
       "      <td>₮ʜᴇ Wᴀʀᴛᴏɴ</td>\n",
       "      <td>328100</td>\n",
       "      <td>1</td>\n",
       "      <td>1514304000</td>\n",
       "    </tr>\n",
       "    <tr>\n",
       "      <th>1</th>\n",
       "      <td>hello?&lt;</td>\n",
       "      <td>328100</td>\n",
       "      <td>1</td>\n",
       "      <td>1508083200</td>\n",
       "    </tr>\n",
       "    <tr>\n",
       "      <th>2</th>\n",
       "      <td>Cyderine916</td>\n",
       "      <td>35140</td>\n",
       "      <td>1</td>\n",
       "      <td>1514995200</td>\n",
       "    </tr>\n",
       "    <tr>\n",
       "      <th>3</th>\n",
       "      <td>DarklyThinking</td>\n",
       "      <td>35140</td>\n",
       "      <td>1</td>\n",
       "      <td>1514995200</td>\n",
       "    </tr>\n",
       "    <tr>\n",
       "      <th>4</th>\n",
       "      <td>Ariman1</td>\n",
       "      <td>328100</td>\n",
       "      <td>1</td>\n",
       "      <td>1501603200</td>\n",
       "    </tr>\n",
       "    <tr>\n",
       "      <th>...</th>\n",
       "      <td>...</td>\n",
       "      <td>...</td>\n",
       "      <td>...</td>\n",
       "      <td>...</td>\n",
       "    </tr>\n",
       "    <tr>\n",
       "      <th>6158426</th>\n",
       "      <td>Wildman_</td>\n",
       "      <td>252490</td>\n",
       "      <td>1</td>\n",
       "      <td>1386691200</td>\n",
       "    </tr>\n",
       "    <tr>\n",
       "      <th>6158427</th>\n",
       "      <td>Stony</td>\n",
       "      <td>252490</td>\n",
       "      <td>1</td>\n",
       "      <td>1386691200</td>\n",
       "    </tr>\n",
       "    <tr>\n",
       "      <th>6158428</th>\n",
       "      <td>Deez Knees</td>\n",
       "      <td>252490</td>\n",
       "      <td>1</td>\n",
       "      <td>1386691200</td>\n",
       "    </tr>\n",
       "    <tr>\n",
       "      <th>6158429</th>\n",
       "      <td>Vidaar</td>\n",
       "      <td>252490</td>\n",
       "      <td>1</td>\n",
       "      <td>1386691200</td>\n",
       "    </tr>\n",
       "    <tr>\n",
       "      <th>6158430</th>\n",
       "      <td>Zaithe</td>\n",
       "      <td>252490</td>\n",
       "      <td>1</td>\n",
       "      <td>1386691200</td>\n",
       "    </tr>\n",
       "  </tbody>\n",
       "</table>\n",
       "<p>6158431 rows × 4 columns</p>\n",
       "</div>"
      ],
      "text/plain": [
       "                user_id item_id  rating   timestamp\n",
       "0            ₮ʜᴇ Wᴀʀᴛᴏɴ  328100       1  1514304000\n",
       "1               hello?<  328100       1  1508083200\n",
       "2           Cyderine916   35140       1  1514995200\n",
       "3        DarklyThinking   35140       1  1514995200\n",
       "4               Ariman1  328100       1  1501603200\n",
       "...                 ...     ...     ...         ...\n",
       "6158426        Wildman_  252490       1  1386691200\n",
       "6158427           Stony  252490       1  1386691200\n",
       "6158428      Deez Knees  252490       1  1386691200\n",
       "6158429          Vidaar  252490       1  1386691200\n",
       "6158430          Zaithe  252490       1  1386691200\n",
       "\n",
       "[6158431 rows x 4 columns]"
      ]
     },
     "execution_count": 9,
     "metadata": {},
     "output_type": "execute_result"
    }
   ],
   "source": [
    "all_data = pd.DataFrame({\n",
    "    'user_id': user_id,\n",
    "    'item_id': item_id,\n",
    "    'rating': rating,\n",
    "    'timestamp': timestamp\n",
    "})\n",
    "all_data"
   ]
  },
  {
   "cell_type": "code",
   "execution_count": 10,
   "metadata": {},
   "outputs": [],
   "source": [
    "user_counts = all_data['user_id'].value_counts()\n",
    "users_over_100 = user_counts[user_counts >= 20].index # 25442"
   ]
  },
  {
   "cell_type": "code",
   "execution_count": 11,
   "metadata": {},
   "outputs": [],
   "source": [
    "item_counts = all_data['item_id'].value_counts()\n",
    "items_over_100 = item_counts[item_counts >= 20].index # 81562"
   ]
  },
  {
   "cell_type": "code",
   "execution_count": 12,
   "metadata": {},
   "outputs": [],
   "source": [
    "save_tuples_over100 = []\n",
    "items_over_100_selected = []\n",
    "for item in list(items_over_100):\n",
    "    if item in id_genres_dict:\n",
    "        save_tuples_over100.append((item, id_name_dict[item], id_genres_dict[item]))\n",
    "        items_over_100_selected.append(item)"
   ]
  },
  {
   "cell_type": "code",
   "execution_count": 13,
   "metadata": {},
   "outputs": [
    {
     "data": {
      "text/plain": [
       "6772"
      ]
     },
     "execution_count": 13,
     "metadata": {},
     "output_type": "execute_result"
    }
   ],
   "source": [
    "len(items_over_100_selected)"
   ]
  },
  {
   "cell_type": "code",
   "execution_count": 14,
   "metadata": {},
   "outputs": [],
   "source": [
    "with open('steam_over20.dat', 'w', encoding='utf-8') as file:\n",
    "    for record in save_tuples_over100:\n",
    "        line = f\"{record[0]} %% {record[1]} %% {record[2]}\\n\"\n",
    "        file.write(line)"
   ]
  },
  {
   "cell_type": "code",
   "execution_count": 15,
   "metadata": {},
   "outputs": [],
   "source": [
    "filtered_data_100 = all_data[(all_data['user_id'].isin(users_over_100)) & (all_data['item_id'].isin(items_over_100_selected))]\n",
    "filtered_data_100.to_csv(\"ratings_over20.csv\", index=False) # 2499706"
   ]
  }
 ],
 "metadata": {
  "kernelspec": {
   "display_name": "base",
   "language": "python",
   "name": "python3"
  },
  "language_info": {
   "codemirror_mode": {
    "name": "ipython",
    "version": 3
   },
   "file_extension": ".py",
   "mimetype": "text/x-python",
   "name": "python",
   "nbconvert_exporter": "python",
   "pygments_lexer": "ipython3",
   "version": "3.10.14"
  },
  "orig_nbformat": 4
 },
 "nbformat": 4,
 "nbformat_minor": 2
}
